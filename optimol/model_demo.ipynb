{
 "cells": [
  {
   "cell_type": "code",
   "execution_count": 1,
   "metadata": {},
   "outputs": [],
   "source": [
    "import pandas as pd\n",
    "from optimol import data_compile\n",
    "from optimol import model"
   ]
  },
  {
   "cell_type": "markdown",
   "metadata": {},
   "source": [
    "First build the dataset that can be used to build model. The function build_model will read files from datababse and write out a csv file called model.csv in optimol folder. The dataset contains all molecular imformation with essential format which will be used for next step. (Note this function takes about 3 minutes)."
   ]
  },
  {
   "cell_type": "code",
   "execution_count": 3,
   "metadata": {},
   "outputs": [
    {
     "name": "stderr",
     "output_type": "stream",
     "text": [
      "C:\\Users\\weishi\\direct\\OptiMol\\optimol\\model.py:34: RuntimeWarning: invalid value encountered in true_divide\n",
      "  return vector / np.linalg.norm(vector)\n"
     ]
    }
   ],
   "source": [
    "model.build_model()"
   ]
  },
  {
   "cell_type": "markdown",
   "metadata": {},
   "source": [
    "First read the model.csv. Get the multiregressor model by using get_model function, then evaluate the model's performance through 5-fold cross-validation."
   ]
  },
  {
   "cell_type": "code",
   "execution_count": 3,
   "metadata": {},
   "outputs": [
    {
     "data": {
      "text/plain": [
       "'C:\\\\Users\\\\weishi\\\\direct\\\\OptiMol'"
      ]
     },
     "execution_count": 3,
     "metadata": {},
     "output_type": "execute_result"
    }
   ],
   "source": [
    "import os\n",
    "os.getcwd() "
   ]
  },
  {
   "cell_type": "code",
   "execution_count": 4,
   "metadata": {},
   "outputs": [
    {
     "name": "stdout",
     "output_type": "stream",
     "text": [
      "Accuracy: 55.49% (2.09%)\n"
     ]
    }
   ],
   "source": [
    "data = pd.read_csv('C:\\\\Users\\\\weishi\\\\direct\\\\OptiMol\\\\optimol\\\\model.csv')\n",
    "estimator = model.get_model(data)\n",
    "model.model_eval(estimator,data)"
   ]
  },
  {
   "cell_type": "code",
   "execution_count": 5,
   "metadata": {},
   "outputs": [
    {
     "data": {
      "text/html": [
       "<div>\n",
       "<style scoped>\n",
       "    .dataframe tbody tr th:only-of-type {\n",
       "        vertical-align: middle;\n",
       "    }\n",
       "\n",
       "    .dataframe tbody tr th {\n",
       "        vertical-align: top;\n",
       "    }\n",
       "\n",
       "    .dataframe thead th {\n",
       "        text-align: right;\n",
       "    }\n",
       "</style>\n",
       "<table border=\"1\" class=\"dataframe\">\n",
       "  <thead>\n",
       "    <tr style=\"text-align: right;\">\n",
       "      <th></th>\n",
       "      <th>2d_x</th>\n",
       "      <th>2d_y</th>\n",
       "      <th>periodic_#_2d</th>\n",
       "      <th>bond_1_2d</th>\n",
       "      <th>bond_2_2d</th>\n",
       "      <th>bond_3_2d</th>\n",
       "    </tr>\n",
       "  </thead>\n",
       "  <tbody>\n",
       "    <tr>\n",
       "      <td>0</td>\n",
       "      <td>4.6055</td>\n",
       "      <td>-1.9942</td>\n",
       "      <td>7</td>\n",
       "      <td>1</td>\n",
       "      <td>0</td>\n",
       "      <td>0</td>\n",
       "    </tr>\n",
       "    <tr>\n",
       "      <td>1</td>\n",
       "      <td>3.4542</td>\n",
       "      <td>-2.6574</td>\n",
       "      <td>6</td>\n",
       "      <td>2</td>\n",
       "      <td>1</td>\n",
       "      <td>0</td>\n",
       "    </tr>\n",
       "    <tr>\n",
       "      <td>2</td>\n",
       "      <td>3.4542</td>\n",
       "      <td>-3.9884</td>\n",
       "      <td>8</td>\n",
       "      <td>0</td>\n",
       "      <td>1</td>\n",
       "      <td>0</td>\n",
       "    </tr>\n",
       "    <tr>\n",
       "      <td>3</td>\n",
       "      <td>2.3028</td>\n",
       "      <td>-1.9942</td>\n",
       "      <td>6</td>\n",
       "      <td>2</td>\n",
       "      <td>1</td>\n",
       "      <td>0</td>\n",
       "    </tr>\n",
       "    <tr>\n",
       "      <td>4</td>\n",
       "      <td>1.1514</td>\n",
       "      <td>-2.6620</td>\n",
       "      <td>6</td>\n",
       "      <td>1</td>\n",
       "      <td>1</td>\n",
       "      <td>0</td>\n",
       "    </tr>\n",
       "    <tr>\n",
       "      <td>5</td>\n",
       "      <td>0.0000</td>\n",
       "      <td>-1.9942</td>\n",
       "      <td>6</td>\n",
       "      <td>1</td>\n",
       "      <td>1</td>\n",
       "      <td>0</td>\n",
       "    </tr>\n",
       "    <tr>\n",
       "      <td>6</td>\n",
       "      <td>0.0000</td>\n",
       "      <td>-0.6632</td>\n",
       "      <td>7</td>\n",
       "      <td>1</td>\n",
       "      <td>1</td>\n",
       "      <td>0</td>\n",
       "    </tr>\n",
       "    <tr>\n",
       "      <td>7</td>\n",
       "      <td>1.1514</td>\n",
       "      <td>0.0000</td>\n",
       "      <td>6</td>\n",
       "      <td>1</td>\n",
       "      <td>1</td>\n",
       "      <td>0</td>\n",
       "    </tr>\n",
       "    <tr>\n",
       "      <td>8</td>\n",
       "      <td>2.3028</td>\n",
       "      <td>-0.6632</td>\n",
       "      <td>6</td>\n",
       "      <td>1</td>\n",
       "      <td>1</td>\n",
       "      <td>0</td>\n",
       "    </tr>\n",
       "  </tbody>\n",
       "</table>\n",
       "</div>"
      ],
      "text/plain": [
       "     2d_x    2d_y  periodic_#_2d  bond_1_2d  bond_2_2d  bond_3_2d\n",
       "0  4.6055 -1.9942              7          1          0          0\n",
       "1  3.4542 -2.6574              6          2          1          0\n",
       "2  3.4542 -3.9884              8          0          1          0\n",
       "3  2.3028 -1.9942              6          2          1          0\n",
       "4  1.1514 -2.6620              6          1          1          0\n",
       "5  0.0000 -1.9942              6          1          1          0\n",
       "6  0.0000 -0.6632              7          1          1          0\n",
       "7  1.1514  0.0000              6          1          1          0\n",
       "8  2.3028 -0.6632              6          1          1          0"
      ]
     },
     "execution_count": 5,
     "metadata": {},
     "output_type": "execute_result"
    }
   ],
   "source": [
    "id_list = data_compile.get_id()\n",
    "demo_input = data_compile.get_df_database(id_list[3])[0][['2d_x','2d_y','periodic_#_2d','bond_1_2d','bond_2_2d','bond_3_2d']].reset_index(drop=True)\n",
    "demo_input"
   ]
  },
  {
   "cell_type": "code",
   "execution_count": 7,
   "metadata": {},
   "outputs": [
    {
     "data": {
      "text/html": [
       "<div>\n",
       "<style scoped>\n",
       "    .dataframe tbody tr th:only-of-type {\n",
       "        vertical-align: middle;\n",
       "    }\n",
       "\n",
       "    .dataframe tbody tr th {\n",
       "        vertical-align: top;\n",
       "    }\n",
       "\n",
       "    .dataframe thead th {\n",
       "        text-align: right;\n",
       "    }\n",
       "</style>\n",
       "<table border=\"1\" class=\"dataframe\">\n",
       "  <thead>\n",
       "    <tr style=\"text-align: right;\">\n",
       "      <th></th>\n",
       "      <th>3d_x</th>\n",
       "      <th>3d_y</th>\n",
       "      <th>3d_z</th>\n",
       "    </tr>\n",
       "  </thead>\n",
       "  <tbody>\n",
       "    <tr>\n",
       "      <td>0</td>\n",
       "      <td>1.799376</td>\n",
       "      <td>-0.046763</td>\n",
       "      <td>-0.040233</td>\n",
       "    </tr>\n",
       "    <tr>\n",
       "      <td>1</td>\n",
       "      <td>0.557831</td>\n",
       "      <td>-0.215743</td>\n",
       "      <td>0.335885</td>\n",
       "    </tr>\n",
       "    <tr>\n",
       "      <td>2</td>\n",
       "      <td>-1.711492</td>\n",
       "      <td>0.673397</td>\n",
       "      <td>0.058597</td>\n",
       "    </tr>\n",
       "    <tr>\n",
       "      <td>3</td>\n",
       "      <td>1.522962</td>\n",
       "      <td>-0.532426</td>\n",
       "      <td>-0.194860</td>\n",
       "    </tr>\n",
       "    <tr>\n",
       "      <td>4</td>\n",
       "      <td>1.560337</td>\n",
       "      <td>1.244744</td>\n",
       "      <td>-0.046162</td>\n",
       "    </tr>\n",
       "    <tr>\n",
       "      <td>5</td>\n",
       "      <td>0.713294</td>\n",
       "      <td>-0.253275</td>\n",
       "      <td>-0.079990</td>\n",
       "    </tr>\n",
       "    <tr>\n",
       "      <td>6</td>\n",
       "      <td>-0.025737</td>\n",
       "      <td>0.218338</td>\n",
       "      <td>-0.080859</td>\n",
       "    </tr>\n",
       "    <tr>\n",
       "      <td>7</td>\n",
       "      <td>0.784534</td>\n",
       "      <td>-0.225123</td>\n",
       "      <td>0.003144</td>\n",
       "    </tr>\n",
       "    <tr>\n",
       "      <td>8</td>\n",
       "      <td>0.078967</td>\n",
       "      <td>-0.438747</td>\n",
       "      <td>-0.015504</td>\n",
       "    </tr>\n",
       "  </tbody>\n",
       "</table>\n",
       "</div>"
      ],
      "text/plain": [
       "       3d_x      3d_y      3d_z\n",
       "0  1.799376 -0.046763 -0.040233\n",
       "1  0.557831 -0.215743  0.335885\n",
       "2 -1.711492  0.673397  0.058597\n",
       "3  1.522962 -0.532426 -0.194860\n",
       "4  1.560337  1.244744 -0.046162\n",
       "5  0.713294 -0.253275 -0.079990\n",
       "6 -0.025737  0.218338 -0.080859\n",
       "7  0.784534 -0.225123  0.003144\n",
       "8  0.078967 -0.438747 -0.015504"
      ]
     },
     "execution_count": 7,
     "metadata": {},
     "output_type": "execute_result"
    }
   ],
   "source": [
    "model.predict_3d(demo_input,estimator)"
   ]
  }
 ],
 "metadata": {
  "kernelspec": {
   "display_name": "Python 3",
   "language": "python",
   "name": "python3"
  },
  "language_info": {
   "codemirror_mode": {
    "name": "ipython",
    "version": 3
   },
   "file_extension": ".py",
   "mimetype": "text/x-python",
   "name": "python",
   "nbconvert_exporter": "python",
   "pygments_lexer": "ipython3",
   "version": "3.7.4"
  }
 },
 "nbformat": 4,
 "nbformat_minor": 4
}
