{
 "cells": [
  {
   "cell_type": "code",
   "execution_count": 1,
   "metadata": {},
   "outputs": [],
   "source": [
    "from gemmi import cif"
   ]
  },
  {
   "cell_type": "code",
   "execution_count": 3,
   "metadata": {},
   "outputs": [],
   "source": [
    "doc = cif.read_file(\"ja2206.cif\")"
   ]
  },
  {
   "cell_type": "code",
   "execution_count": 8,
   "metadata": {},
   "outputs": [
    {
     "data": {
      "text/plain": [
       "<gemmi.cif.Block ah9708>"
      ]
     },
     "execution_count": 8,
     "metadata": {},
     "output_type": "execute_result"
    }
   ],
   "source": [
    "doc[0]"
   ]
  },
  {
   "cell_type": "code",
   "execution_count": 10,
   "metadata": {},
   "outputs": [
    {
     "name": "stdout",
     "output_type": "stream",
     "text": [
      "<gemmi.cif.Block ah9708>\n"
     ]
    }
   ],
   "source": [
    "block = doc.sole_block()\n",
    "print (block)"
   ]
  },
  {
   "cell_type": "code",
   "execution_count": 11,
   "metadata": {},
   "outputs": [
    {
     "data": {
      "text/plain": [
       "'ah9708'"
      ]
     },
     "execution_count": 11,
     "metadata": {},
     "output_type": "execute_result"
    }
   ],
   "source": [
    "block.name"
   ]
  },
  {
   "cell_type": "code",
   "execution_count": 31,
   "metadata": {},
   "outputs": [
    {
     "name": "stdout",
     "output_type": "stream",
     "text": [
      "pair ['_audit_creation_method', 'SHELXL']\n",
      "pair ['_chemical_name_systematic', \";\\n \\\\a,\\\\a'-bis(dithieno[3,2-b:2',3'-d]thiophene\\n;\"]\n",
      "pair ['_chemical_name_common', \"'BDT'\"]\n",
      "pair ['_chemical_formula_moiety', \"'C16 H6 S6'\"]\n",
      "pair ['_chemical_formula_structural', '?']\n",
      "pair ['_chemical_formula_analytical', '?']\n",
      "pair ['_chemical_formula_sum', \"'C16 H6 S6'\"]\n",
      "pair ['_chemical_formula_weight', '390.57']\n",
      "pair ['_chemical_melting_point', '589']\n",
      "pair ['_chemical_compound_source', \"'See mauscript JA9735968-30'\"]\n",
      "loop <gemmi.cif.Loop 3 x 5>\n",
      "pair ['_symmetry_cell_setting', 'Monoclinic']\n",
      "pair ['_symmetry_space_group_name_H-M', \"'C 2/c'\"]\n",
      "loop <gemmi.cif.Loop 8 x 1>\n",
      "pair ['_cell_length_a', '33.689(2)']\n",
      "pair ['_cell_length_b', '3.8834(2)']\n",
      "pair ['_cell_length_c', '11.1055(5)']\n",
      "pair ['_cell_angle_alpha', '90.00']\n",
      "pair ['_cell_angle_beta', '101.093(2)']\n",
      "pair ['_cell_angle_gamma', '90.00']\n",
      "pair ['_cell_volume', '1425.75(13)']\n",
      "pair ['_cell_formula_units_Z', '4']\n",
      "pair ['_cell_measurement_temperature', '160(1)']\n",
      "pair ['_cell_measurement_reflns_used', '1070']\n",
      "pair ['_cell_measurement_theta_min', '3.58']\n",
      "pair ['_cell_measurement_theta_max', '26.89']\n",
      "pair ['_exptl_crystal_description', 'plate']\n",
      "pair ['_exptl_crystal_colour', 'yellow']\n",
      "pair ['_exptl_crystal_size_max', '0.07']\n",
      "pair ['_exptl_crystal_size_mid', '0.02']\n",
      "pair ['_exptl_crystal_size_min', '0.02']\n",
      "pair ['_exptl_crystal_density_meas', '?']\n",
      "pair ['_exptl_crystal_density_diffrn', '1.820']\n",
      "pair ['_exptl_crystal_density_method', \"'not measured'\"]\n",
      "pair ['_exptl_crystal_F_000', '792']\n",
      "pair ['_exptl_absorpt_coefficient_mu', '0.948']\n",
      "pair ['_exptl_absorpt_correction_type', 'sadabs']\n",
      "pair ['_exptl_absorpt_correction_T_min', '0.94']\n",
      "pair ['_exptl_absorpt_correction_T_max', '0.98']\n",
      "pair ['_exptl_special_details', ';\\n ?\\n;']\n",
      "pair ['_diffrn_ambient_temperature', '160(1)']\n",
      "pair ['_diffrn_radiation_wavelength', '0.6879']\n",
      "pair ['_diffrn_radiation_type', 'Synchrotron']\n",
      "pair ['_diffrn_radiation_source', \"'Daresbury SRS station 9.8'\"]\n",
      "pair ['_diffrn_radiation_monochromator', \"'silicon 111'\"]\n",
      "pair ['_diffrn_measurement_device', \"'Siemens SMART CCD diffractometer'\"]\n",
      "pair ['_diffrn_measurement_method', \"'\\\\w rotation with narrow frames'\"]\n",
      "pair ['_diffrn_standards_number', '0']\n",
      "pair ['_diffrn_standards_interval_count', '?']\n",
      "pair ['_diffrn_standards_interval_time', '?']\n",
      "pair ['_diffrn_standards_decay_%', '?']\n",
      "pair ['_diffrn_reflns_number', '1272']\n",
      "pair ['_diffrn_reflns_av_R_equivalents', '0.0429']\n",
      "pair ['_diffrn_reflns_av_sigmaI/netI', '0.0478']\n",
      "pair ['_diffrn_reflns_limit_h_min', '-42']\n",
      "pair ['_diffrn_reflns_limit_h_max', '34']\n",
      "pair ['_diffrn_reflns_limit_k_min', '-4']\n",
      "pair ['_diffrn_reflns_limit_k_max', '5']\n",
      "pair ['_diffrn_reflns_limit_l_min', '-14']\n",
      "pair ['_diffrn_reflns_limit_l_max', '13']\n",
      "pair ['_diffrn_reflns_theta_min', '3.58']\n",
      "pair ['_diffrn_reflns_theta_max', '26.89']\n",
      "pair ['_reflns_number_total', '813']\n",
      "pair ['_reflns_number_observed', '680']\n",
      "pair ['_reflns_observed_criterion', '>2\\\\s(I)']\n",
      "pair ['_computing_data_collection', \"'Siemens SMART'\"]\n",
      "pair ['_computing_cell_refinement', \"'Siemens SAINT'\"]\n",
      "pair ['_computing_data_reduction', \"'Siemens SAINT'\"]\n",
      "pair ['_computing_structure_solution', \"'SHELXS-86 (Sheldrick, 1990)'\"]\n",
      "pair ['_computing_structure_refinement', \"'SHELXL-93 (Sheldrick, 1993)'\"]\n",
      "pair ['_computing_molecular_graphics', \"'TEXSAN 1.7.1 (MSC, 1996)'\"]\n",
      "pair ['_computing_publication_material', \"'SHELXL-93 (Sheldrick, 1993)'\"]\n",
      "pair ['_refine_special_details', ';\\n Refinement on F^2^ for ALL reflections except for 0 with very negative F^2^\\n or flagged by the user for potential systematic errors.  Weighted R-factors\\n wR and all goodnesses of fit S are based on F^2^, conventional R-factors R\\n are based on F, with F set to zero for negative F^2^. The observed criterion\\n of F^2^ > 2sigma(F^2^) is used only for calculating _R_factor_obs etc. and is\\n not relevant to the choice of reflections for refinement.  R-factors based\\n on F^2^ are statistically about twice as large as those based on F, and R-\\n factors based on ALL data will be even larger.\\n;']\n",
      "pair ['_refine_ls_structure_factor_coef', 'Fsqd']\n",
      "pair ['_refine_ls_matrix_type', 'full']\n",
      "pair ['_refine_ls_weighting_scheme', \"'calc w=1/[\\\\s^2^(Fo^2^)+(0.0977P)^2^] where P=(Fo^2^+2Fc^2^)/3'\"]\n",
      "pair ['_atom_sites_solution_primary', 'direct']\n",
      "pair ['_atom_sites_solution_secondary', 'difmap']\n",
      "pair ['_atom_sites_solution_hydrogens', 'geom']\n",
      "pair ['_refine_ls_hydrogen_treatment', 'constr']\n",
      "pair ['_refine_ls_extinction_method', 'none']\n",
      "pair ['_refine_ls_extinction_coef', '?']\n",
      "pair ['_refine_ls_number_reflns', '813']\n",
      "pair ['_refine_ls_number_parameters', '100']\n",
      "pair ['_refine_ls_number_restraints', '0']\n",
      "pair ['_refine_ls_R_factor_all', '0.0556']\n",
      "pair ['_refine_ls_R_factor_obs', '0.0478']\n",
      "pair ['_refine_ls_wR_factor_all', '0.1314']\n",
      "pair ['_refine_ls_wR_factor_obs', '0.1265']\n",
      "pair ['_refine_ls_goodness_of_fit_all', '1.043']\n",
      "pair ['_refine_ls_goodness_of_fit_obs', '1.112']\n",
      "pair ['_refine_ls_restrained_S_all', '1.043']\n",
      "pair ['_refine_ls_restrained_S_obs', '1.112']\n",
      "pair ['_refine_ls_shift/esd_max', '0.000']\n",
      "pair ['_refine_ls_shift/esd_mean', '0.000']\n",
      "loop <gemmi.cif.Loop 14 x 11>\n",
      "loop <gemmi.cif.Loop 11 x 7>\n",
      "pair ['_geom_special_details', ';\\n All esds (except the esd in the dihedral angle between two l.s. planes)\\n are estimated using the full covariance matrix.  The cell esds are taken\\n into account individually in the estimation of esds in distances, angles\\n and torsion angles; correlations between esds in cell parameters are only\\n used when they are defined by crystal symmetry.  An approximate (isotropic)\\n treatment of cell esds is used for estimating esds involving l.s. planes.\\n;']\n",
      "loop <gemmi.cif.Loop 17 x 5>\n",
      "loop <gemmi.cif.Loop 27 x 7>\n",
      "loop <gemmi.cif.Loop 30 x 10>\n",
      "pair ['_refine_diff_density_max', '0.445']\n",
      "pair ['_refine_diff_density_min', '-0.490']\n",
      "pair ['_refine_diff_density_rms', '0.108']\n"
     ]
    }
   ],
   "source": [
    ">>> for item in block:\n",
    "    if item.pair is not None:\n",
    "        print('pair', item.pair)\n",
    "    elif item.loop is not None:\n",
    "        print('loop', item.loop)\n",
    "    elif item.frame is not None:\n",
    "        print('frame', item.frame)\n"
   ]
  },
  {
   "cell_type": "code",
   "execution_count": 26,
   "metadata": {},
   "outputs": [
    {
     "name": "stdout",
     "output_type": "stream",
     "text": [
      "loop None\n",
      "loop None\n",
      "loop None\n",
      "loop None\n",
      "loop None\n",
      "loop None\n",
      "loop None\n",
      "loop None\n",
      "loop None\n",
      "loop None\n",
      "loop <gemmi.cif.Loop 3 x 5>\n",
      "loop None\n",
      "loop None\n",
      "loop <gemmi.cif.Loop 8 x 1>\n",
      "loop None\n",
      "loop None\n",
      "loop None\n",
      "loop None\n",
      "loop None\n",
      "loop None\n",
      "loop None\n",
      "loop None\n",
      "loop None\n",
      "loop None\n",
      "loop None\n",
      "loop None\n",
      "loop None\n",
      "loop None\n",
      "loop None\n",
      "loop None\n",
      "loop None\n",
      "loop None\n",
      "loop None\n",
      "loop None\n",
      "loop None\n",
      "loop None\n",
      "loop None\n",
      "loop None\n",
      "loop None\n",
      "loop None\n",
      "loop None\n",
      "loop None\n",
      "loop None\n",
      "loop None\n",
      "loop None\n",
      "loop None\n",
      "loop None\n",
      "loop None\n",
      "loop None\n",
      "loop None\n",
      "loop None\n",
      "loop None\n",
      "loop None\n",
      "loop None\n",
      "loop None\n",
      "loop None\n",
      "loop None\n",
      "loop None\n",
      "loop None\n",
      "loop None\n",
      "loop None\n",
      "loop None\n",
      "loop None\n",
      "loop None\n",
      "loop None\n",
      "loop None\n",
      "loop None\n",
      "loop None\n",
      "loop None\n",
      "loop None\n",
      "loop None\n",
      "loop None\n",
      "loop None\n",
      "loop None\n",
      "loop None\n",
      "loop None\n",
      "loop None\n",
      "loop None\n",
      "loop None\n",
      "loop None\n",
      "loop None\n",
      "loop None\n",
      "loop None\n",
      "loop None\n",
      "loop None\n",
      "loop None\n",
      "loop None\n",
      "loop None\n",
      "loop None\n",
      "loop None\n",
      "loop None\n",
      "loop None\n",
      "loop None\n",
      "loop None\n",
      "loop None\n",
      "loop <gemmi.cif.Loop 14 x 11>\n",
      "loop <gemmi.cif.Loop 11 x 7>\n",
      "loop None\n",
      "loop <gemmi.cif.Loop 17 x 5>\n",
      "loop <gemmi.cif.Loop 27 x 7>\n",
      "loop <gemmi.cif.Loop 30 x 10>\n",
      "loop None\n",
      "loop None\n",
      "loop None\n"
     ]
    }
   ],
   "source": [
    ">>> for item in block:\n",
    "        print('loop', item.loop)"
   ]
  },
  {
   "cell_type": "code",
   "execution_count": 27,
   "metadata": {},
   "outputs": [
    {
     "name": "stdout",
     "output_type": "stream",
     "text": [
      "frame None\n",
      "frame None\n",
      "frame None\n",
      "frame None\n",
      "frame None\n",
      "frame None\n",
      "frame None\n",
      "frame None\n",
      "frame None\n",
      "frame None\n",
      "frame None\n",
      "frame None\n",
      "frame None\n",
      "frame None\n",
      "frame None\n",
      "frame None\n",
      "frame None\n",
      "frame None\n",
      "frame None\n",
      "frame None\n",
      "frame None\n",
      "frame None\n",
      "frame None\n",
      "frame None\n",
      "frame None\n",
      "frame None\n",
      "frame None\n",
      "frame None\n",
      "frame None\n",
      "frame None\n",
      "frame None\n",
      "frame None\n",
      "frame None\n",
      "frame None\n",
      "frame None\n",
      "frame None\n",
      "frame None\n",
      "frame None\n",
      "frame None\n",
      "frame None\n",
      "frame None\n",
      "frame None\n",
      "frame None\n",
      "frame None\n",
      "frame None\n",
      "frame None\n",
      "frame None\n",
      "frame None\n",
      "frame None\n",
      "frame None\n",
      "frame None\n",
      "frame None\n",
      "frame None\n",
      "frame None\n",
      "frame None\n",
      "frame None\n",
      "frame None\n",
      "frame None\n",
      "frame None\n",
      "frame None\n",
      "frame None\n",
      "frame None\n",
      "frame None\n",
      "frame None\n",
      "frame None\n",
      "frame None\n",
      "frame None\n",
      "frame None\n",
      "frame None\n",
      "frame None\n",
      "frame None\n",
      "frame None\n",
      "frame None\n",
      "frame None\n",
      "frame None\n",
      "frame None\n",
      "frame None\n",
      "frame None\n",
      "frame None\n",
      "frame None\n",
      "frame None\n",
      "frame None\n",
      "frame None\n",
      "frame None\n",
      "frame None\n",
      "frame None\n",
      "frame None\n",
      "frame None\n",
      "frame None\n",
      "frame None\n",
      "frame None\n",
      "frame None\n",
      "frame None\n",
      "frame None\n",
      "frame None\n",
      "frame None\n",
      "frame None\n",
      "frame None\n",
      "frame None\n",
      "frame None\n",
      "frame None\n",
      "frame None\n",
      "frame None\n",
      "frame None\n"
     ]
    }
   ],
   "source": [
    ">>> for item in block:\n",
    "        print('frame', item.frame)"
   ]
  },
  {
   "cell_type": "code",
   "execution_count": 34,
   "metadata": {},
   "outputs": [
    {
     "data": {
      "text/plain": [
       "['C', 'CL', 'N', 'O', 'P', 'S']"
      ]
     },
     "execution_count": 34,
     "metadata": {},
     "output_type": "execute_result"
    }
   ],
   "source": [
    "# accessing numbers in a loop\n",
    ">>> block.find_loop('_atom_type.symbol')\n",
    "\n",
    ">>> list(_)\n"
   ]
  },
  {
   "cell_type": "code",
   "execution_count": 36,
   "metadata": {},
   "outputs": [
    {
     "data": {
      "text/plain": [
       "<gemmi.cif.Column _atom_site_fract_x length 14>"
      ]
     },
     "execution_count": 36,
     "metadata": {},
     "output_type": "execute_result"
    }
   ],
   "source": [
    ">>> block.find_values('_cell.length_a')  # name-value pair\n",
    "\n",
    ">>> block.find_values('_atom_site_fract_x')  # column in a loop\n"
   ]
  },
  {
   "cell_type": "code",
   "execution_count": 43,
   "metadata": {},
   "outputs": [
    {
     "name": "stdout",
     "output_type": "stream",
     "text": [
      "0.367\n",
      "0.427\n",
      "0.287\n",
      "0.272\n",
      "0.447\n",
      "0.463\n",
      "0.330\n",
      "0.404\n",
      "0.346\n",
      "0.389\n",
      "0.463\n",
      "0.491\n",
      "0.307\n",
      "0.271\n"
     ]
    }
   ],
   "source": [
    "col_x = block.find_values('_atom_site_fract_x')\n",
    "for n, x in enumerate(col_x):\n",
    "    print (x[0:5])\n",
    "#     col_x[n] = float(x[:5])"
   ]
  },
  {
   "cell_type": "code",
   "execution_count": 42,
   "metadata": {},
   "outputs": [
    {
     "ename": "TypeError",
     "evalue": "__setitem__(): incompatible function arguments. The following argument types are supported:\n    1. (self: gemmi.cif.Column, arg0: int, arg1: str) -> None\n\nInvoked with: <gemmi.cif.Column _atom_site_fract_x length 14>, 0, 0.367",
     "output_type": "error",
     "traceback": [
      "\u001b[1;31m---------------------------------------------------------------------------\u001b[0m",
      "\u001b[1;31mTypeError\u001b[0m                                 Traceback (most recent call last)",
      "\u001b[1;32m<ipython-input-42-8fbd350f16f8>\u001b[0m in \u001b[0;36m<module>\u001b[1;34m\u001b[0m\n\u001b[0;32m      1\u001b[0m \u001b[0mcol_x\u001b[0m \u001b[1;33m=\u001b[0m \u001b[0mblock\u001b[0m\u001b[1;33m.\u001b[0m\u001b[0mfind_values\u001b[0m\u001b[1;33m(\u001b[0m\u001b[1;34m'_atom_site_fract_x'\u001b[0m\u001b[1;33m)\u001b[0m\u001b[1;33m\u001b[0m\u001b[1;33m\u001b[0m\u001b[0m\n\u001b[0;32m      2\u001b[0m \u001b[1;32mfor\u001b[0m \u001b[0mn\u001b[0m\u001b[1;33m,\u001b[0m \u001b[0mx\u001b[0m \u001b[1;32min\u001b[0m \u001b[0menumerate\u001b[0m\u001b[1;33m(\u001b[0m\u001b[0mcol_x\u001b[0m\u001b[1;33m)\u001b[0m\u001b[1;33m:\u001b[0m\u001b[1;33m\u001b[0m\u001b[1;33m\u001b[0m\u001b[0m\n\u001b[1;32m----> 3\u001b[1;33m     \u001b[0mcol_x\u001b[0m\u001b[1;33m[\u001b[0m\u001b[0mn\u001b[0m\u001b[1;33m]\u001b[0m \u001b[1;33m=\u001b[0m \u001b[0mfloat\u001b[0m\u001b[1;33m(\u001b[0m\u001b[0mx\u001b[0m\u001b[1;33m[\u001b[0m\u001b[1;33m:\u001b[0m\u001b[1;36m5\u001b[0m\u001b[1;33m]\u001b[0m\u001b[1;33m)\u001b[0m\u001b[1;33m\u001b[0m\u001b[1;33m\u001b[0m\u001b[0m\n\u001b[0m",
      "\u001b[1;31mTypeError\u001b[0m: __setitem__(): incompatible function arguments. The following argument types are supported:\n    1. (self: gemmi.cif.Column, arg0: int, arg1: str) -> None\n\nInvoked with: <gemmi.cif.Column _atom_site_fract_x length 14>, 0, 0.367"
     ]
    }
   ],
   "source": [
    "col_x = block.find_values('_atom_site_fract_x')\n",
    "for n, x in enumerate(col_x):\n",
    "    col_x[n] = float(x[:5])"
   ]
  },
  {
   "cell_type": "code",
   "execution_count": null,
   "metadata": {},
   "outputs": [],
   "source": []
  }
 ],
 "metadata": {
  "kernelspec": {
   "display_name": "Python 3",
   "language": "python",
   "name": "python3"
  },
  "language_info": {
   "codemirror_mode": {
    "name": "ipython",
    "version": 3
   },
   "file_extension": ".py",
   "mimetype": "text/x-python",
   "name": "python",
   "nbconvert_exporter": "python",
   "pygments_lexer": "ipython3",
   "version": "3.7.4"
  }
 },
 "nbformat": 4,
 "nbformat_minor": 2
}
