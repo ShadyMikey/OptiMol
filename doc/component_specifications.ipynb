{
 "cells": [
  {
   "cell_type": "markdown",
   "metadata": {},
   "source": [
    "# Component Specifications"
   ]
  },
  {
   "cell_type": "markdown",
   "metadata": {},
   "source": [
    "The following diagram gives an overview of the interfaces offered and used by the OptiMol component (component specification diagram).\n",
    "\n",
    "\n",
    "![](component_diagram.png)"
   ]
  },
  {
   "cell_type": "markdown",
   "metadata": {},
   "source": [
    "<component>"
   ]
  },
  {
   "cell_type": "markdown",
   "metadata": {},
   "source": [
    "<component>"
   ]
  },
  {
   "cell_type": "markdown",
   "metadata": {},
   "source": [
    "## <u>Component Interfaces</u>\n",
    "\n",
    "get_all_dataset(set1=None, set2=0)\n",
    "\n",
    "- Get all dataset from the database and combine them to one dataframe, and the samples are randomly selected.\n",
    "    When two return sets are requested, the samples are randomly picked from the same list, matching values between two sets can happen\n",
    "- param set1: amount of samples wanted for the first set\n",
    "- param set2: amount of samples wanted for the second set\n",
    "- type set1: int\n",
    "- type set2: int\n",
    "\n",
    "get_df_database(id_num, raw=False, hydrogen=False)\n",
    "\n",
    "- Access the database folder using the id number to get a list of dataframes contain 2D and 3D data\n",
    "- param id_num: id number of the molecule\n",
    "- param raw: return dataframes in raw form from web server without processing\n",
    "- param hydrogen: return dataframes in without trimming Hydrogen\n",
    "- type id_num: int, str\n",
    "- type raw: bool\n",
    "- type hydrogen: boo\n",
    "\n",
    "trim_hydrogen(coord_input, bond_input)\n",
    "\n",
    "- Return a copy of the same dataframe after removing Hydorgen atom\n",
    "- param coord_input: coordinate dataframe\n",
    "- param bond_input: bond dataframe\n",
    "- type coord_input: pandas.DataFrame\n",
    "\n",
    "atom_connect(coord_input, bond_input)\n",
    "\n",
    "- Create array contains connection info to the atom and put it into a new dataframe column\n",
    "- param coord_input: dataframe to be updated with new column of connection\n",
    "- param bond_input: dataframe contain atom pairs and the connections\n",
    "- type coord_input: pandas.DataFrame\n",
    "- type bond_input: pandas.DataFrame\n",
    "\n",
    "atom_periodic_number_convert(coord_input)\n",
    "\n",
    "-  Add a new column contain periodic number of the corresponding atom\n",
    "-  param coord_input: coordinate dataframe of 2D or 3D data\n",
    "-  type: pandas.DataFrame\n",
    "\n",
    "get_df(filename, dim=2)\n",
    "- Extract the atom coordinates and bonding data from txt file according to provided dimension\n",
    "- Can be used for both database and user input file\n",
    "- param filename: text file name\n",
    "- param dim: dimension of the molecule structure in the text file\n",
    "- type filename: str\n",
    "- type dim int\n",
    "\n",
    "df_cleaner(df, new_df)\n",
    "- Reformat input dataframe to be more usable\n",
    "- param df: input dataframe from reading id.txt file, only has 1 column of white space separated values\n",
    "- type df: pandas.DataFrame\n",
    "- param new_df: output dataframe\n",
    "- type new_df: pandas.DataFrame\n",
    "\n",
    "get_id()\n",
    "\n",
    "- Return a list of id of the whole database\n",
    "- rtype id_results: list\n",
    "\n",
    "sample_subset(directory=DATABASE, size=50)\n",
    "\n",
    "- Create a smaller database folder inside the main database folder for testing\n",
    "- param directory: directory of the database from root\n",
    "- param size: the size of the folder\n",
    "- type directory: str\n",
    "- type size: int\n",
    "- return a list of sample id in the created folder\n",
    "- rtype id_results: list\n",
    "\n",
    "database_setup()\n",
    "\n",
    "- Download 2D and 3D molecule structure from ChemSpider sever to create a database"
   ]
  },
  {
   "cell_type": "markdown",
   "metadata": {},
   "source": [
    "## <u> Implementation Guidance <u>\n",
    "\n"
   ]
  },
  {
   "cell_type": "markdown",
   "metadata": {},
   "source": [
    "## <u> Reference <u>\n",
    "\n"
   ]
  }
 ],
 "metadata": {
  "kernelspec": {
   "display_name": "Python 3",
   "language": "python",
   "name": "python3"
  },
  "language_info": {
   "codemirror_mode": {
    "name": "ipython",
    "version": 3
   },
   "file_extension": ".py",
   "mimetype": "text/x-python",
   "name": "python",
   "nbconvert_exporter": "python",
   "pygments_lexer": "ipython3",
   "version": "3.7.3"
  }
 },
 "nbformat": 4,
 "nbformat_minor": 2
}
