{
 "cells": [
  {
   "cell_type": "markdown",
   "metadata": {},
   "source": [
    "# Functional Specification"
   ]
  },
  {
   "cell_type": "markdown",
   "metadata": {},
   "source": [
    "## 1. Introduction\n",
    "In the chemistry community, density function theory (DFT) is the major tool set for chemical property prediction. However, it requires users of quantum mechanics specialty and demands a substantial computational hardware facility to achieve an approximal predition. These two prerequisites are not accessible for most of the chemists and materials scientists who are spearheading in chemical and material discoveries. This gap has significantly slowed down the pace of technology innovation.\n",
    "\n",
    "In the light of the fast advancement of machine learning (ML), it can now make decisions or predictions without explicit instructions, but based on sample data. In the project we are experiementing to utilize ML to predict molecular conformation of organic chemicals based on the crystallographic information data, which has been accomulated by the chemistry community over the decades.\n",
    "\n",
    "With that in mind, this package's purpose is provide tools to predict 3D molecular conformation from 2D drawings, for chemists and material scientists who don't possess a sufficient quantum mechanics backgrounds."
   ]
  },
  {
   "cell_type": "markdown",
   "metadata": {},
   "source": [
    "## 2. Use cases\n",
    "\n",
    "The demography of users of this package would be mainly chemists, researchers and scientists working in the field of organic crystals and molecular structures. The users are expected to have advance knowledge of chemistry, but programming is not required. Machine learning would help in fine tuning the model to specific need, but it is not neccessary for general usage of this package.\n",
    "\n",
    "The user can provide a 2D design of a molecule structure that contains the information of X-Y coordinates and atom connections. The 2D input can easily be made using chemtistry softwares and [online tool](http://www.cheminfo.org/Chemistry/Generate_molfiles/index.html).\n",
    "The model would fit the input into the ML model and output a 3D design of the molecule through the following steps:\n",
    "\n",
    "Step 1: Load the package and model\n",
    "    \n",
    "    import pandas as pd\n",
    "    from optimol import data_compile\n",
    "    from optimol import model\n",
    "    \n",
    "    # create model\n",
    "    model.buil_model()\n",
    "\n",
    "Step 2: Read the user input\n",
    "    \n",
    "    user_input = data_compile.get_df_user('./user.txt')\n",
    "\n",
    "Step 3: Train the model using the default data set\n",
    "\n",
    "    data = model.get_csv()\n",
    "    estimator = model.get_model(data)\n",
    "    \n",
    "Step 4: Input user data to model and get the result \n",
    "\n",
    "    result = model.predict_3d(user_input,estimator)\n",
    " "
   ]
  },
  {
   "cell_type": "markdown",
   "metadata": {},
   "source": [
    "### 2.1 Product Functions\n",
    "As mentioned in the user case section, there are 4 components in the package, and below are their function specification.\n",
    "\n",
    "#### In step 1\n",
    "There are two modules in this package -- `data_compile.py` and `model.py` -- and they are under the folder of optimal. `data_compile.py` includes functions to extract information for downloaded structure data; `model.py` includes functions to train the 3D molecule generater.\n",
    "\n",
    "\n",
    "\n",
    "#### In step 2 \n",
    "In the function `data_compile.get_df_user('./id.csv')`, user can feed a list of molecular information into the module. Here, the `id.csv` is the list of molecular information files that you choose to feed into the ML module. We recommanded these molecules are of similar features to the molecule you are trying to predict, and download both of the 2d and 3d structure files from chemspider and save them to the folder `./optimol/chemspider_database`.\n",
    "\n",
    "\n",
    "\n",
    "#### In step 3\n",
    "`data = model.get_csv()` is a function to load the compiled data gathered in step 2, which is stored in the file `./model.csv`. Please make sure you update the the compiled data when you switch to a new structure, as mentioned in step 2.\n",
    "Below are the meaning of each column in `model.csv`:\n",
    "\n",
    "    1) The columns `3d_x`, `3d_y` and `3d_z` are the x, y ,z coordinates of atoms\n",
    "\n",
    "    2) `atom` stands for the atom type, while `periodic_#` stands for their periodic numbers\n",
    "\n",
    "    3) `connect_to` stands for what other atoms -- labelled in row index-- the current atom is connected to, and -1 stands for any connection to hydrogen atom\n",
    "\n",
    "    4) `bond_1`, `bond_2` and `bond_3` stands for the numbers of single, double and triple bonds that the atom has.\n",
    "\n",
    "Atoms information of 2D molecules can be interpreted similarly as above.\n",
    "\n",
    "In `estimator = model.get_model(data)`, it return a multioutputregressor based on the `./model/csv` fed into.\n",
    "\n",
    "\n",
    "\n",
    "#### In step 4 \n",
    "`model.predict_3d(user_input,estimator)` takes in the user input 2d information and predictive model built from database to make the prediction of 3d strucutre ::param user_input: user input of the 2d information about molecule model: predictive model built from database ::return user_output: 3d information about the molecule"
   ]
  },
  {
   "cell_type": "markdown",
   "metadata": {},
   "source": [
    "### 2.2  User Characteristics\n",
    "1) Chemical engineers and material scientists who want to obtain the approximate 3D structure of molecule before making a lot of effort synthesizing them. \n",
    "\n",
    "2) Chemical engineers and material scientists who don’t possess a profound quantum mechanics background to use density function theory (DFT).\n",
    "\n",
    "3) The user should be able to do the following functions:\n",
    "\n",
    "* obtain the molecular information from database \n",
    "* build an accurate and efficient fundamental design for the experiments from statistics result\n",
    "\n",
    "\n",
    "\n"
   ]
  },
  {
   "cell_type": "markdown",
   "metadata": {},
   "source": [
    "### 2.3 User Objectives \n",
    "OptiMol is a package for predicting molecular conformations of organic compounds, currently limited to 4 most common elements, C, H, N, O. For our future plan, we would like to generate any molecular conformations of organic compounds with gorgeous visual graph, so that our customers could investigate scientific research deeper with this tool."
   ]
  },
  {
   "cell_type": "markdown",
   "metadata": {},
   "source": [
    "##  3. Updated Schedule\n",
    "As mentioned above, our package currently only predicts 4 elements. (C,H,N,O) We are working hard to predict more elements, so that we can meet our customer's expectation. How to produce visual graph using 3D coordinate system is definitely one of our big goal to achieve."
   ]
  },
  {
   "cell_type": "code",
   "execution_count": null,
   "metadata": {},
   "outputs": [],
   "source": []
  }
 ],
 "metadata": {
  "kernelspec": {
   "display_name": "Python 3",
   "language": "python",
   "name": "python3"
  },
  "language_info": {
   "codemirror_mode": {
    "name": "ipython",
    "version": 3
   },
   "file_extension": ".py",
   "mimetype": "text/x-python",
   "name": "python",
   "nbconvert_exporter": "python",
   "pygments_lexer": "ipython3",
   "version": "3.7.4"
  }
 },
 "nbformat": 4,
 "nbformat_minor": 4
}
