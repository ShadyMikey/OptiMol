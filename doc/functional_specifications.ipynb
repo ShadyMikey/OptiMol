{
 "cells": [
  {
   "cell_type": "markdown",
   "metadata": {},
   "source": [
    "# Functional specification\n",
    "\n",
    "## 1. Background\n",
    "\n",
    "Currently, this package supports calculation of the 3D molecule structure from a corresponded 2D structure. \n",
    "\n",
    "## 2. Use case\n",
    "The user can provide a 2D design of a molecule structure that contains the information of X-Y coordinates and atom connections. The 2D input can easily be made using chemtistry softwares and online tools: http://www.cheminfo.org/Chemistry/Generate_molfiles/index.html\n",
    "The model would fit the input into the ML model and output a 3D design of the molecule."
   ]
  },
  {
   "cell_type": "code",
   "execution_count": null,
   "metadata": {},
   "outputs": [],
   "source": []
  }
 ],
 "metadata": {
  "kernelspec": {
   "display_name": "Python 3",
   "language": "python",
   "name": "python3"
  },
  "language_info": {
   "codemirror_mode": {
    "name": "ipython",
    "version": 3
   },
   "file_extension": ".py",
   "mimetype": "text/x-python",
   "name": "python",
   "nbconvert_exporter": "python",
   "pygments_lexer": "ipython3",
   "version": "3.7.3"
  }
 },
 "nbformat": 4,
 "nbformat_minor": 2
}
