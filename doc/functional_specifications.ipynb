{
 "cells": [
  {
   "cell_type": "markdown",
   "metadata": {},
   "source": [
    "# Functional Specification"
   ]
  },
  {
   "cell_type": "markdown",
   "metadata": {},
   "source": [
    "## 1. Introduction\n",
    "In the chemistry community, density function theory (DFT) is the major tool set for chemical property prediction. However, it requires users of quantum mechanics specialty and demands a substantial computational hardware facility to achieve an approximal predition. These two prerequisites are not accessible for most of the chemists and materials scientists who are spearheading in chemical and material discoveries. This gap has significantly slowed down the pace of technology innovation.\n",
    "\n",
    "In the light of the fast advancement of machine learning (ML), it can now make decisions or predictions without explicit instructions, but based on sample data. In the project we are experiementing to utilize ML to predict molecular conformation of organic chemicals based on the crystallographic information data, which has been accomulated by the chemistry community over the decades."
   ]
  },
  {
   "cell_type": "markdown",
   "metadata": {},
   "source": [
    "### 1.1 Purpose of this document\n",
    "Design a package to predict 3D molecular conformation from 2D drawings, for chemists and material scientists who don't possess a sufficient quantum mechanics backgrounds."
   ]
  },
  {
   "cell_type": "markdown",
   "metadata": {},
   "source": [
    "### 1.2 Overview\n",
    "Predicting the 3D molecular conformation of a molecule from 2D drawing inputs, e.g. drawings from ChemDraw."
   ]
  },
  {
   "cell_type": "markdown",
   "metadata": {},
   "source": [
    "## 2. General Description\n",
    "\n",
    "The user can provide a 2D design of a molecule structure that contains the information of X-Y coordinates and atom connections. The 2D input can easily be made using chemtistry softwares and [online tool](http://www.cheminfo.org/Chemistry/Generate_molfiles/index.html)\n",
    "The model would fit the input into the ML model and output a 3D design of the molecule."
   ]
  },
  {
   "cell_type": "markdown",
   "metadata": {},
   "source": [
    "### 2.1 Product Functions\n",
    "Functions can be mainly devided into two part. First part is that we use existing molecules from ChemSpider to generate 2D coordinate, 2D bond type,  3D coordinate, 3D bond type as training data. With those information, we can feed our dataset to XGboost maching learning Algorithm and output the 3D design model."
   ]
  },
  {
   "cell_type": "markdown",
   "metadata": {},
   "source": [
    "### 2.2 Product Features\n",
    "Normally the major feature of predicting 3D molecular model as shown in below:\n",
    "[Three-Dimensionally Embedded Graph Convolutional Network](https://arxiv.org/pdf/1811.09794.pdf).\n",
    "However, we found out it would be more accurate to use XGboost maching learning Algorithm. Instead of using Convolutional Neural Networks, we decide to use matching graph(matrix) to express how does moleculer links to each other [maching-graph](https://brilliant.org/wiki/matching/). With this technique, we could help our customer to generate the exact 3D molecular model efficiently. "
   ]
  },
  {
   "cell_type": "markdown",
   "metadata": {},
   "source": [
    "![](graph.png)"
   ]
  },
  {
   "cell_type": "markdown",
   "metadata": {},
   "source": [
    "### 2.3  User Characteristics\n",
    "User of the system should be able to retrieve the basic molecular information such as bond length, bond type and distances between two atoms. The customer should be able to do the following functions:\n",
    "\n",
    "* obtain the molecular information from database \n",
    "* build an accurate and efficient fundamental design for the experiments from statistics result\n",
    "* generate awesome visual graph\n",
    "\n",
    "\n"
   ]
  },
  {
   "cell_type": "markdown",
   "metadata": {},
   "source": [
    "### 2.4 User Objectives\n",
    "Our biggest objective is to produce a 3D molecule structure from a corresponded 2D structure"
   ]
  },
  {
   "cell_type": "markdown",
   "metadata": {},
   "source": [
    "### 2.5 General Constraints\n",
    "OptiMol is a package for predicting molecular conformations of organic compounds, currently limited to 4 most common elements, C, H, N, O."
   ]
  },
  {
   "cell_type": "markdown",
   "metadata": {},
   "source": [
    "## 3. System Features\n",
    "When you download OptiMol packages, we already create th environment that you need. In this case, for those zero background engineering, they don't have to worry about anything when using our packages. "
   ]
  },
  {
   "cell_type": "markdown",
   "metadata": {},
   "source": [
    "## 4. External Interface Requirements"
   ]
  },
  {
   "cell_type": "markdown",
   "metadata": {},
   "source": [
    "### 4.1 User Interfaces\n",
    "* Front-end software: \n",
    "* Back-end software:"
   ]
  },
  {
   "cell_type": "markdown",
   "metadata": {},
   "source": [
    "### 4.2 Hardware Interfaces\n",
    "* Windows, IOS\n",
    "* better CPU  "
   ]
  },
  {
   "cell_type": "markdown",
   "metadata": {},
   "source": [
    "##  5. Updated Schedule\n",
    "As we mentioned above, our package currently only predicts 4 elements. (C,H,N,O) We are working hard to predict more elements, so that we can meet our customer's expectation."
   ]
  }
 ],
 "metadata": {
  "kernelspec": {
   "display_name": "Python 3",
   "language": "python",
   "name": "python3"
  },
  "language_info": {
   "codemirror_mode": {
    "name": "ipython",
    "version": 3
   },
   "file_extension": ".py",
   "mimetype": "text/x-python",
   "name": "python",
   "nbconvert_exporter": "python",
   "pygments_lexer": "ipython3",
   "version": "3.7.4"
  }
 },
 "nbformat": 4,
 "nbformat_minor": 4
}
