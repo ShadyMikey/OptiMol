{
 "cells": [
  {
   "cell_type": "markdown",
   "metadata": {},
   "source": [
    "# Functional Specification"
   ]
  },
  {
   "cell_type": "markdown",
   "metadata": {},
   "source": [
    "## 1. Introduction\n",
    "In the chemistry community, density function theory (DFT) is the major tool set for chemical property prediction. However, it requires users of quantum mechanics specialty and demands a substantial computational hardware facility to achieve an approximal predition. These two prerequisites are not accessible for most of the chemists and materials scientists who are spearheading in chemical and material discoveries. This gap has significantly slowed down the pace of technology innovation.\n",
    "\n",
    "In the light of the fast advancement of machine learning (ML), it can now make decisions or predictions without explicit instructions, but based on sample data. In the project we are experiementing to utilize ML to predict molecular conformation of organic chemicals based on the crystallographic information data, which has been accomulated by the chemistry community over the decades.\n",
    "\n",
    "With that in mind, this package's purpose is provide tools to predict 3D molecular conformation from 2D drawings, for chemists and material scientists who don't possess a sufficient quantum mechanics backgrounds."
   ]
  },
  {
   "cell_type": "markdown",
   "metadata": {},
   "source": [
    "## 2. Use cases\n",
    "\n",
    "The demography of users of this package would be mainly chemists, researchers and scientists working in the field of organic crystals and molecular structures. The users are expected to have advance knowledge of chemistry, but programming is not required. Machine learning would help in fine tuning the model to specific need, but it is not neccessary for general usage of this package.\n",
    "\n",
    "The user can provide a 2D design of a molecule structure that contains the information of X-Y coordinates and atom connections. The 2D input can easily be made using chemtistry softwares and [online tool](http://www.cheminfo.org/Chemistry/Generate_molfiles/index.html).\n",
    "The model would fit the input into the ML model and output a 3D design of the molecule through the following steps:\n",
    "\n",
    "Step 1: Load the package and model\n",
    "    \n",
    "    import pandas as pd\n",
    "    from optimol import data_compile\n",
    "    from optimol import model\n",
    "    \n",
    "    # create model\n",
    "    model.buil_model()\n",
    "\n",
    "Step 2: Read the user input\n",
    "    \n",
    "    user_input = data_compile.get_df_user('./user.txt')\n",
    "\n",
    "Step 3: Train the model using the default data set\n",
    "\n",
    "    data = model.get_csv()\n",
    "    estimator = model.get_model(data)\n",
    "    \n",
    "Step 4: Input user data to model and get the result \n",
    "\n",
    "    result = model.predict_3d(user_input,estimator)\n",
    " "
   ]
  },
  {
   "cell_type": "markdown",
   "metadata": {},
   "source": [
    "### 2.1 Product Functions\n",
    "Functions can be mainly devided into two part. First part is that we use existing molecules from ChemSpider to generate 2D coordinate, 2D bond type,  3D coordinate, 3D bond type as training data. With those information, we can feed our dataset to XGboost maching learning Algorithm and output the 3D design model."
   ]
  },
  {
   "cell_type": "markdown",
   "metadata": {},
   "source": [
    "### 2.3  User Characteristics\n",
    "User of the system should be able to retrieve the basic molecular information such as bond length, bond type and distances between two atoms. The customer should be able to do the following functions:\n",
    "\n",
    "* obtain the molecular information from database \n",
    "* build an accurate and efficient fundamental design for the experiments from statistics result\n",
    "\n",
    "\n",
    "\n"
   ]
  },
  {
   "cell_type": "markdown",
   "metadata": {},
   "source": [
    "### 2.4 User Objectives \n",
    "OptiMol is a package for predicting molecular conformations of organic compounds, currently limited to 4 most common elements, C, H, N, O. For our future plan, we would like to generate any molecular conformations of organic compounds with gorgeous visual graph, so that our customers could investigate scientific research deeper with this tool."
   ]
  },
  {
   "cell_type": "markdown",
   "metadata": {},
   "source": [
    "## 3. System Features\n",
    "When you download OptiMol packages, we already create th environment that you need. In this case, for those zero background engineering, they don't have to worry about anything when using our packages. "
   ]
  },
  {
   "cell_type": "markdown",
   "metadata": {},
   "source": [
    "## 4. External Interface Requirements"
   ]
  },
  {
   "cell_type": "markdown",
   "metadata": {},
   "source": [
    "### 4.1 User Interfaces\n",
    "* Front-end software: "
   ]
  },
  {
   "cell_type": "markdown",
   "metadata": {},
   "source": [
    "### 4.2 Hardware Interfaces\n",
    "* Windows, IOS\n",
    "* better CPU  "
   ]
  },
  {
   "cell_type": "markdown",
   "metadata": {},
   "source": [
    "##  5. Updated Schedule\n",
    "As mentioned above, our package currently only predicts 4 elements. (C,H,N,O) We are working hard to predict more elements, so that we can meet our customer's expectation. How to produce visual graph using 3D coordinate system is definitely one of our big goal to achieve."
   ]
  }
 ],
 "metadata": {
  "kernelspec": {
   "display_name": "Python 3",
   "language": "python",
   "name": "python3"
  },
  "language_info": {
   "codemirror_mode": {
    "name": "ipython",
    "version": 3
   },
   "file_extension": ".py",
   "mimetype": "text/x-python",
   "name": "python",
   "nbconvert_exporter": "python",
   "pygments_lexer": "ipython3",
   "version": "3.6.8"
  }
 },
 "nbformat": 4,
 "nbformat_minor": 4
}
